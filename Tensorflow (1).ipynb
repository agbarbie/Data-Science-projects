{
  "cells": [
    {
      "cell_type": "code",
      "execution_count": null,
      "metadata": {
        "id": "K_JjpCRRObFC"
      },
      "outputs": [
        {
          "ename": "",
          "evalue": "",
          "output_type": "error",
          "traceback": [
            "\u001b[1;31mRunning cells with 'Python 3.10.11' requires the ipykernel package.\n",
            "\u001b[1;31m<a href='command:jupyter.createPythonEnvAndSelectController'>Create a Python Environment</a> with the required packages.\n",
            "\u001b[1;31mOr install 'ipykernel' using the command: 'c:/Users/BarbieCue/AppData/Local/Programs/Python/Python310/python.exe -m pip install ipykernel -U --user --force-reinstall'"
          ]
        }
      ],
      "source": [
        "import matplotlib.pyplot as plt\n",
        "import seaborn as sns\n",
        "import numpy as np\n",
        "import pandas as pd\n",
        "import tensorflow as tf\n",
        "\n",
        "from tensorflow import keras\n",
        "from tensorflow.keras import layers\n",
        "from tensorflow.keras.utils import to_categorical\n",
        "from sklearn.datasets import load_iris\n",
        "from sklearn.model_selection import train_test_split\n",
        "from sklearn.preprocessing import StandardScaler\n",
        "from sklearn.metrics import classification_report"
      ]
    },
    {
      "cell_type": "markdown",
      "metadata": {
        "id": "z1u9CBXgXsYd"
      },
      "source": [
        "# Loading Data"
      ]
    },
    {
      "cell_type": "code",
      "execution_count": null,
      "metadata": {
        "id": "ozJ_hoRVQ_90"
      },
      "outputs": [],
      "source": [
        "np.random.seed(42)\n",
        "tf.random.set_seed(42)"
      ]
    },
    {
      "cell_type": "code",
      "execution_count": null,
      "metadata": {
        "id": "u83bBfguRu3i"
      },
      "outputs": [],
      "source": [
        "iris  = load_iris()\n",
        "X = iris.data\n",
        "y = iris.target"
      ]
    },
    {
      "cell_type": "code",
      "execution_count": null,
      "metadata": {
        "colab": {
          "base_uri": "https://localhost:8080/"
        },
        "id": "TSNYTrb4R9lE",
        "outputId": "1b961357-7584-4033-c342-9eb891b27871"
      },
      "outputs": [],
      "source": [
        "iris"
      ]
    },
    {
      "cell_type": "code",
      "execution_count": null,
      "metadata": {
        "id": "fa703eab"
      },
      "outputs": [],
      "source": [
        "df = pd.DataFrame(X, columns=iris.feature_names)\n",
        "df['target'] = y\n",
        "df['species'] = df['target'].map({0: 'setosa', 1: 'versicolor', 2: 'virginica'})"
      ]
    },
    {
      "cell_type": "code",
      "execution_count": null,
      "metadata": {
        "colab": {
          "base_uri": "https://localhost:8080/",
          "height": 424
        },
        "id": "CGOKJ9zzTY-r",
        "outputId": "d0d034c7-309e-4ca0-fd3f-585d0c87e030"
      },
      "outputs": [],
      "source": [
        "df.head(100)"
      ]
    },
    {
      "cell_type": "markdown",
      "metadata": {
        "id": "OfLXWzsSX26X"
      },
      "source": [
        "# Preprocessing Data"
      ]
    },
    {
      "cell_type": "code",
      "execution_count": null,
      "metadata": {
        "colab": {
          "base_uri": "https://localhost:8080/"
        },
        "id": "Xu5JMon6TqJv",
        "outputId": "0b245d33-617f-4351-abc3-250bd28fc2e5"
      },
      "outputs": [],
      "source": [
        "features = iris.feature_names\n",
        "X = df[features].values\n",
        "y = df['target'].values\n",
        "X.shape"
      ]
    },
    {
      "cell_type": "code",
      "execution_count": null,
      "metadata": {
        "colab": {
          "base_uri": "https://localhost:8080/"
        },
        "id": "4b2IYKYLV0Jf",
        "outputId": "6b1000b6-d402-49c7-a06f-bd0b96fa1466"
      },
      "outputs": [],
      "source": [
        "y.shape"
      ]
    },
    {
      "cell_type": "markdown",
      "metadata": {
        "id": "Q0p9XZE7XlWV"
      },
      "source": [
        "# Spliting Data"
      ]
    },
    {
      "cell_type": "code",
      "execution_count": null,
      "metadata": {
        "id": "Jza3Np4wW91N"
      },
      "outputs": [],
      "source": [
        "X_train, X_test, y_train, y_test = train_test_split(X, y, test_size=0.2, random_state=42, stratify=y)"
      ]
    },
    {
      "cell_type": "markdown",
      "metadata": {
        "id": "xVfOcWAvafYW"
      },
      "source": [
        "# Scaling"
      ]
    },
    {
      "cell_type": "code",
      "execution_count": null,
      "metadata": {
        "colab": {
          "base_uri": "https://localhost:8080/"
        },
        "id": "2bTKnNbdXZ5Z",
        "outputId": "da4e3c97-e70a-460a-86a5-9e4f8f39bdcc"
      },
      "outputs": [],
      "source": [
        "scaler = StandardScaler()\n",
        "X_train = scaler.fit_transform(X_train)\n",
        "X_test = scaler.transform(X_test)\n",
        "\n",
        "print(f\"\\nBefore scaling - Feature ranges:\")\n",
        "for i in range(X.shape[1]):\n",
        "    print(f\"Feature {i}: Min={np.min(X[:, i])}, Max={np.max(X[:, i])}\")\n",
        "\n",
        "print(f\"\\nAfter scaling - Feature ranges:\")\n",
        "for i in range(X_train.shape[1]):\n",
        "    print(f\"Feature {i}: Min={np.min(X_train[:, i])}, Max={np.max(X_train[:, i])}\")"
      ]
    },
    {
      "cell_type": "markdown",
      "metadata": {
        "id": "nN4XAKvkc7wJ"
      },
      "source": [
        "# One hot encoding"
      ]
    },
    {
      "cell_type": "code",
      "execution_count": null,
      "metadata": {
        "colab": {
          "base_uri": "https://localhost:8080/"
        },
        "id": "EwNrcBNfa5_m",
        "outputId": "345df5f0-9e57-4417-ca3e-ea33b6bfe734"
      },
      "outputs": [],
      "source": [
        "y_train_cat = to_categorical(y_train,3)\n",
        "y_test_cat = to_categorical(y_test,3)\n",
        "\n",
        "print(f\"\\nOne-hot encoded labels shape: {y_train_cat.shape}\")\n",
        "print(f\"Sample label before encoded: ({y_train[0]} ({iris.target_names[y_train[0]]}))\")\n",
        "print(f\"Sample label after encoded: {y_train_cat[0]}\")"
      ]
    },
    {
      "cell_type": "code",
      "execution_count": null,
      "metadata": {
        "colab": {
          "base_uri": "https://localhost:8080/"
        },
        "id": "vWCvee75dMA7",
        "outputId": "b4931b76-f312-4a8b-84c7-70037e041843"
      },
      "outputs": [],
      "source": [
        "y_train_cat"
      ]
    },
    {
      "cell_type": "markdown",
      "metadata": {
        "id": "8rYYer2Ye-Q9"
      },
      "source": [
        "# Neural Network model building"
      ]
    },
    {
      "cell_type": "code",
      "execution_count": null,
      "metadata": {
        "id": "n0lRovxwfCJz"
      },
      "outputs": [],
      "source": [
        "model = keras.Sequential([\n",
        "    keras.Input(shape=(4,), name='input_layer'),\n",
        "    layers.Dense(64, activation='relu', name = 'hidden_layer_1'),\n",
        "    layers.Dropout(0.3,name='dropout_1'),\n",
        "    layers.Dense(32, activation='relu', name = 'hidden_layer_2'),\n",
        "    layers.Dropout(0.3,name='dropout_2'),\n",
        "    layers.Dense(16, activation='relu', name = 'hidden_layer_3'),\n",
        "    layers.Dense(3, activation='softmax', name = 'output_layer')\n",
        "])"
      ]
    },
    {
      "cell_type": "code",
      "execution_count": null,
      "metadata": {
        "colab": {
          "base_uri": "https://localhost:8080/",
          "height": 340
        },
        "id": "rQFp4Fjpffk_",
        "outputId": "2df5881b-65c9-42c1-e3e6-adc885f22a29"
      },
      "outputs": [],
      "source": [
        "model.summary()"
      ]
    },
    {
      "cell_type": "code",
      "execution_count": null,
      "metadata": {
        "id": "ZYecH1aRfjtI"
      },
      "outputs": [],
      "source": [
        "model.compile(optimizer='adam', loss='categorical_crossentropy', metrics=['accuracy'])"
      ]
    },
    {
      "cell_type": "markdown",
      "metadata": {
        "id": "SSTeC5LXhsl3"
      },
      "source": []
    },
    {
      "cell_type": "markdown",
      "metadata": {
        "id": "CTdyJwcCiGQV"
      },
      "source": [
        "# Model Training"
      ]
    },
    {
      "cell_type": "code",
      "execution_count": null,
      "metadata": {
        "colab": {
          "base_uri": "https://localhost:8080/"
        },
        "id": "bzGrSL1kqyly",
        "outputId": "c9aff261-eba2-4f51-b612-88e9a09828b5"
      },
      "outputs": [],
      "source": [
        "early_stopping = tf.keras.callbacks.EarlyStopping(monitor='val_loss', patience=10, restore_best_weights=True)\n",
        "reduce_lr = tf.keras.callbacks.ReduceLROnPlateau(monitor='val_loss', factor=0.5, patience=5, min_lr=0.0001)\n",
        "history = model.fit(X_train, y_train_cat, epochs=50, batch_size=16, validation_split=0.2, callbacks=[early_stopping, reduce_lr])"
      ]
    },
    {
      "cell_type": "markdown",
      "metadata": {
        "id": "_AejSMTuk7W-"
      },
      "source": [
        "# Model Evaluation"
      ]
    },
    {
      "cell_type": "code",
      "execution_count": null,
      "metadata": {
        "colab": {
          "base_uri": "https://localhost:8080/"
        },
        "id": "lp9fdvnPkoOM",
        "outputId": "372f37ee-92e6-4c22-b780-4d0054b8ce01"
      },
      "outputs": [],
      "source": [
        "test_loss, test_acc = model.evaluate(X_test, y_test_cat)\n",
        "print(f\"Test accuracy: {test_acc:.4f}\")\n",
        "print(f\"Test loss: {test_loss:.4f}\")"
      ]
    },
    {
      "cell_type": "code",
      "execution_count": null,
      "metadata": {
        "colab": {
          "base_uri": "https://localhost:8080/"
        },
        "id": "s3JUqsfvlxGX",
        "outputId": "53517193-bff6-42d7-9e43-54378d3b6cbe"
      },
      "outputs": [],
      "source": [
        "y_pred_prob = model.predict(X_test)\n",
        "y_pred = np.argmax(y_pred_prob, axis=1)"
      ]
    },
    {
      "cell_type": "code",
      "execution_count": null,
      "metadata": {
        "colab": {
          "base_uri": "https://localhost:8080/"
        },
        "id": "opKUop7eml7I",
        "outputId": "a423e9ce-eb1b-40b5-8746-161979bc78b1"
      },
      "outputs": [],
      "source": [
        "print(\"\\nClassification Report:\")\n",
        "print(classification_report(y_test, y_pred, target_names=iris.target_names))"
      ]
    },
    {
      "cell_type": "markdown",
      "metadata": {
        "id": "EsZ10VLfnMfo"
      },
      "source": [
        "# Visualization"
      ]
    },
    {
      "cell_type": "code",
      "execution_count": null,
      "metadata": {
        "colab": {
          "base_uri": "https://localhost:8080/",
          "height": 564
        },
        "id": "PPTcmqPenMHf",
        "outputId": "764a843d-01a2-4a80-e61e-0b366a8eedbb"
      },
      "outputs": [],
      "source": [
        "plt.figure(figsize=(20, 6))\n",
        "\n",
        "plt.subplot(1, 4, 1)\n",
        "plt.plot(history.history['loss'], label='Training Loss',linewidth=2)\n",
        "plt.plot(history.history['val_loss'], label='Validation Loss',linewidth=2)\n",
        "plt.xlabel('Epochs')\n",
        "plt.ylabel('Loss')\n",
        "plt.title('Training and Validation Loss')\n",
        "plt.legend()\n",
        "plt.grid(True,)"
      ]
    },
    {
      "cell_type": "markdown",
      "metadata": {
        "id": "-fYUY8r8rMJz"
      },
      "source": [
        "#Model Perfomance"
      ]
    },
    {
      "cell_type": "code",
      "execution_count": null,
      "metadata": {
        "colab": {
          "base_uri": "https://localhost:8080/",
          "height": 564
        },
        "id": "vQqse-EQhv3X",
        "outputId": "0da1c283-4234-453b-8eb6-2f91528fe861"
      },
      "outputs": [],
      "source": [
        "plt.figure(figsize=(20, 6))\n",
        "plt.subplot(1, 4, 2)\n",
        "plt.plot(history.history['accuracy'], label='Training Accuracy',linewidth=2)\n",
        "plt.plot(history.history['val_accuracy'], label='Validation Accuracy',linewidth=2)\n",
        "plt.xlabel('Epochs')\n",
        "plt.ylabel('Accuracy')\n",
        "plt.title('Training and Validation Accuracy')\n",
        "plt.legend()\n",
        "plt.grid(True)"
      ]
    },
    {
      "cell_type": "code",
      "execution_count": null,
      "metadata": {
        "colab": {
          "base_uri": "https://localhost:8080/"
        },
        "id": "ML1QLOZPntRe",
        "outputId": "c867aedf-661c-4f76-fbf5-226528f16623"
      },
      "outputs": [],
      "source": [
        "print(f\"Final Test Accuracy: {test_acc:.4f} ({test_acc*100:.2f}%)\")\n",
        "print(f\"Final Test Loss: {test_loss:.4f}\")\n",
        "print(f\"Total trainable parameters: {model.count_params():,}\")\n",
        "\n",
        "# Per-class accuracy\n",
        "print(f\"\\nPer-class performance:\")\n",
        "for i, species in enumerate(iris.target_names):\n",
        "    class_mask = (y_test == i)\n",
        "    if sum(class_mask) > 0:\n",
        "        class_acc = np.mean(y_pred[class_mask] == y_test[class_mask])\n",
        "        print(f\"{species}: {class_acc:.4f} ({class_acc*100:.1f}%)\")\n",
        "\n",
        "# Model complexity analysis\n",
        "print(f\"\\nModel complexity:\")\n",
        "print(f\"- Number of layers: {len(model.layers)}\")\n",
        "print(f\"- Hidden layers: {len(model.layers) - 1}\")\n",
        "print(f\"- Total parameters: {model.count_params()}\")\n",
        "\n",
        "# Training efficiency\n",
        "print(f\"\\nTraining efficiency:\")\n",
        "print(f\"- Epochs trained: {len(history.history['loss'])}\")\n",
        "print(f\"- Final training accuracy: {history.history['accuracy'][-1]:.4f}\")\n",
        "print(f\"- Final validation accuracy: {history.history['val_accuracy'][-1]:.4f}\")\n"
      ]
    },
    {
      "cell_type": "markdown",
      "metadata": {
        "id": "e656c6e0"
      },
      "source": [
        "# Saving the Model"
      ]
    },
    {
      "cell_type": "code",
      "execution_count": null,
      "metadata": {
        "id": "f731b501"
      },
      "outputs": [],
      "source": [
        "model.save('my_model.keras')"
      ]
    }
  ],
  "metadata": {
    "colab": {
      "provenance": []
    },
    "kernelspec": {
      "display_name": "Python 3",
      "language": "python",
      "name": "python3"
    },
    "language_info": {
      "name": "python",
      "version": "3.10.11"
    }
  },
  "nbformat": 4,
  "nbformat_minor": 0
}
